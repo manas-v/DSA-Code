{
 "cells": [
  {
   "cell_type": "markdown",
   "id": "55032059",
   "metadata": {},
   "source": [
    "## Create Node Class"
   ]
  },
  {
   "cell_type": "code",
   "execution_count": 1,
   "id": "02ee8555",
   "metadata": {},
   "outputs": [],
   "source": [
    "class Node:\n",
    "    def __init__(self, data):\n",
    "        self.left = None\n",
    "        self.right = None\n",
    "        self.data = data"
   ]
  },
  {
   "cell_type": "markdown",
   "id": "3c4c0316",
   "metadata": {},
   "source": [
    "## Add Nodes"
   ]
  },
  {
   "cell_type": "code",
   "execution_count": 2,
   "id": "dfb72948",
   "metadata": {},
   "outputs": [],
   "source": [
    "root = Node(1)\n",
    "\n",
    "root.left = Node(2)\n",
    "root.right = Node(3)\n",
    "\n",
    "root.left.left = Node(4)\n",
    "root.left.right = Node(5)\n",
    "\n",
    "root.left.right.left = Node(6)\n",
    "root.left.right.right = Node(7)"
   ]
  },
  {
   "cell_type": "markdown",
   "id": "10c223f0",
   "metadata": {},
   "source": [
    "#### Structure of Tree:\n",
    "                             1\n",
    "                            / \\\n",
    "                           2   3\n",
    "                          / \\ \n",
    "                         4   5\n",
    "                            / \\ \n",
    "                           6   7 "
   ]
  },
  {
   "cell_type": "markdown",
   "id": "06c5dcb0",
   "metadata": {},
   "source": [
    "## Nodes at distance K"
   ]
  },
  {
   "cell_type": "code",
   "execution_count": 3,
   "id": "6d54b79e",
   "metadata": {},
   "outputs": [],
   "source": [
    "def nodeatk(node, k):\n",
    "    if node is None:\n",
    "        return\n",
    "    elif k == 0:\n",
    "        print(node.data)\n",
    "    else:\n",
    "        nodeatk(node.left, k-1)\n",
    "        nodeatk(node.right, k-1)"
   ]
  },
  {
   "cell_type": "markdown",
   "id": "41b70a01",
   "metadata": {},
   "source": [
    "### Print nodes at K distance"
   ]
  },
  {
   "cell_type": "code",
   "execution_count": 4,
   "id": "d3bad29b",
   "metadata": {},
   "outputs": [
    {
     "name": "stdout",
     "output_type": "stream",
     "text": [
      "2\n",
      "3\n"
     ]
    }
   ],
   "source": [
    "# Print at distance 1\n",
    "\n",
    "nodeatk(root, 1)"
   ]
  },
  {
   "cell_type": "code",
   "execution_count": 5,
   "id": "d80fc6c4",
   "metadata": {},
   "outputs": [
    {
     "name": "stdout",
     "output_type": "stream",
     "text": [
      "4\n",
      "5\n"
     ]
    }
   ],
   "source": [
    "# Print at distance 2\n",
    "\n",
    "nodeatk(root, 2)"
   ]
  },
  {
   "cell_type": "code",
   "execution_count": 6,
   "id": "89684814",
   "metadata": {},
   "outputs": [
    {
     "name": "stdout",
     "output_type": "stream",
     "text": [
      "6\n",
      "7\n"
     ]
    }
   ],
   "source": [
    "# Print at distance 3\n",
    "\n",
    "nodeatk(root, 3)"
   ]
  }
 ],
 "metadata": {
  "kernelspec": {
   "display_name": "Python 3",
   "language": "python",
   "name": "python3"
  },
  "language_info": {
   "codemirror_mode": {
    "name": "ipython",
    "version": 3
   },
   "file_extension": ".py",
   "mimetype": "text/x-python",
   "name": "python",
   "nbconvert_exporter": "python",
   "pygments_lexer": "ipython3",
   "version": "3.8.8"
  }
 },
 "nbformat": 4,
 "nbformat_minor": 5
}
