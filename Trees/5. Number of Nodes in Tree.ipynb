{
 "cells": [
  {
   "cell_type": "markdown",
   "id": "55032059",
   "metadata": {},
   "source": [
    "## Create Node Class"
   ]
  },
  {
   "cell_type": "code",
   "execution_count": 1,
   "id": "02ee8555",
   "metadata": {},
   "outputs": [],
   "source": [
    "class Node:\n",
    "    def __init__(self, data):\n",
    "        self.left = None\n",
    "        self.right = None\n",
    "        self.data = data"
   ]
  },
  {
   "cell_type": "markdown",
   "id": "3c4c0316",
   "metadata": {},
   "source": [
    "## Add Nodes"
   ]
  },
  {
   "cell_type": "code",
   "execution_count": 2,
   "id": "dfb72948",
   "metadata": {},
   "outputs": [],
   "source": [
    "root = Node(1)\n",
    "\n",
    "root.left = Node(2)\n",
    "root.right = Node(3)\n",
    "\n",
    "root.left.left = Node(4)\n",
    "root.left.right = Node(5)\n",
    "\n",
    "root.left.right.left = Node(6)\n",
    "root.left.right.right = Node(7)"
   ]
  },
  {
   "cell_type": "markdown",
   "id": "10c223f0",
   "metadata": {},
   "source": [
    "#### Structure of Tree:\n",
    "                             1\n",
    "                            / \\\n",
    "                           2   3\n",
    "                          / \\ \n",
    "                         4   5\n",
    "                            / \\ \n",
    "                           6   7 "
   ]
  },
  {
   "cell_type": "markdown",
   "id": "06c5dcb0",
   "metadata": {},
   "source": [
    "## Count Nodes in Binary Tree"
   ]
  },
  {
   "cell_type": "code",
   "execution_count": 3,
   "id": "6d54b79e",
   "metadata": {},
   "outputs": [],
   "source": [
    "def countnodes(node):\n",
    "    if node is None:\n",
    "        return(0)\n",
    "    else:\n",
    "        return(1+countnodes(node.left)+countnodes(node.right))"
   ]
  },
  {
   "cell_type": "markdown",
   "id": "41b70a01",
   "metadata": {},
   "source": [
    "### Print tree node count"
   ]
  },
  {
   "cell_type": "code",
   "execution_count": 4,
   "id": "d3bad29b",
   "metadata": {},
   "outputs": [
    {
     "name": "stdout",
     "output_type": "stream",
     "text": [
      "Number of nodes in the tree is: 7\n"
     ]
    }
   ],
   "source": [
    "print(\"Number of nodes in the tree is:\", countnodes(root))"
   ]
  },
  {
   "cell_type": "code",
   "execution_count": 5,
   "id": "d80fc6c4",
   "metadata": {},
   "outputs": [
    {
     "name": "stdout",
     "output_type": "stream",
     "text": [
      "Number of nodes in the tree is: 8\n"
     ]
    }
   ],
   "source": [
    "# After adding left node to node 4\n",
    "\n",
    "root.left.left.left = Node(8)\n",
    "print(\"Number of nodes in the tree is:\", countnodes(root))"
   ]
  }
 ],
 "metadata": {
  "kernelspec": {
   "display_name": "Python 3",
   "language": "python",
   "name": "python3"
  },
  "language_info": {
   "codemirror_mode": {
    "name": "ipython",
    "version": 3
   },
   "file_extension": ".py",
   "mimetype": "text/x-python",
   "name": "python",
   "nbconvert_exporter": "python",
   "pygments_lexer": "ipython3",
   "version": "3.8.8"
  }
 },
 "nbformat": 4,
 "nbformat_minor": 5
}
