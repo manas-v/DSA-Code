{
 "cells": [
  {
   "cell_type": "markdown",
   "id": "55032059",
   "metadata": {},
   "source": [
    "## Create Node Class"
   ]
  },
  {
   "cell_type": "code",
   "execution_count": 1,
   "id": "02ee8555",
   "metadata": {},
   "outputs": [],
   "source": [
    "class Node:\n",
    "    def __init__(self, data):\n",
    "        self.left = None\n",
    "        self.right = None\n",
    "        self.data = data"
   ]
  },
  {
   "cell_type": "markdown",
   "id": "3c4c0316",
   "metadata": {},
   "source": [
    "## Add Nodes"
   ]
  },
  {
   "cell_type": "code",
   "execution_count": 40,
   "id": "dfb72948",
   "metadata": {},
   "outputs": [],
   "source": [
    "root = Node(1)\n",
    "\n",
    "root.left = Node(2)\n",
    "root.right = Node(3)\n",
    "\n",
    "root.left.left = Node(4)\n",
    "root.left.right = Node(5)\n",
    "\n",
    "root.left.right.left = Node(6)\n",
    "root.left.right.right = Node(7)"
   ]
  },
  {
   "cell_type": "markdown",
   "id": "10c223f0",
   "metadata": {},
   "source": [
    "#### Structure of Tree:\n",
    "                             1\n",
    "                            / \\\n",
    "                           2   3\n",
    "                          / \\ \n",
    "                         4   5\n",
    "                            / \\ \n",
    "                           6   7 "
   ]
  },
  {
   "cell_type": "markdown",
   "id": "06c5dcb0",
   "metadata": {},
   "source": [
    "## Interative Inorder Traversal"
   ]
  },
  {
   "cell_type": "code",
   "execution_count": 44,
   "id": "6d54b79e",
   "metadata": {},
   "outputs": [],
   "source": [
    "def iterativeinorder(node):\n",
    "    \n",
    "    stack = []\n",
    "    current = node\n",
    "    \n",
    "    while True:\n",
    "        \n",
    "        if current is not None:\n",
    "            stack.append(current)\n",
    "            current = current.left\n",
    "        elif(stack):\n",
    "            current = stack.pop()\n",
    "            print(current.data)\n",
    "            current = current.right\n",
    "        else:\n",
    "            break"
   ]
  },
  {
   "cell_type": "markdown",
   "id": "81f78348",
   "metadata": {},
   "source": [
    "## Interative Preorder Traversal"
   ]
  },
  {
   "cell_type": "code",
   "execution_count": 48,
   "id": "5487ae8b",
   "metadata": {},
   "outputs": [],
   "source": [
    "def iterativepreorder(node):\n",
    "    \n",
    "    stack = []\n",
    "    current = node\n",
    "    \n",
    "    while True:\n",
    "        if current is not None:\n",
    "            print(current.data)\n",
    "            stack.append(current)\n",
    "            current = current.left\n",
    "        elif(stack):\n",
    "            current = stack.pop()\n",
    "            current = current.right\n",
    "        else:\n",
    "            break"
   ]
  },
  {
   "cell_type": "markdown",
   "id": "91b95978",
   "metadata": {},
   "source": [
    "## Interative Postorder Traversal"
   ]
  },
  {
   "cell_type": "code",
   "execution_count": null,
   "id": "f628815e",
   "metadata": {},
   "outputs": [],
   "source": [
    "def iterativepostorder(node):\n",
    "    \n",
    "    stack = []\n",
    "    current = node\n",
    "    \n",
    "    while True:\n",
    "        \n",
    "        if current is not None:\n",
    "            stack.append(current)\n",
    "            current = current.left\n",
    "        elif(stack):\n",
    "            current = stack.pop()\n",
    "            current = current.right\n",
    "        elif(current):\n",
    "            print(current.data)\n",
    "        else:\n",
    "            break"
   ]
  },
  {
   "cell_type": "markdown",
   "id": "41b70a01",
   "metadata": {},
   "source": [
    "### Print Iterative Traversals"
   ]
  },
  {
   "cell_type": "code",
   "execution_count": 53,
   "id": "d3bad29b",
   "metadata": {},
   "outputs": [
    {
     "name": "stdout",
     "output_type": "stream",
     "text": [
      "Iterative inorder traversal of the tree is:\n",
      "4\n",
      "2\n",
      "6\n",
      "5\n",
      "7\n",
      "1\n",
      "3\n"
     ]
    }
   ],
   "source": [
    "print(\"Iterative inorder traversal of the tree is:\")\n",
    "iterativeinorder(root)"
   ]
  },
  {
   "cell_type": "code",
   "execution_count": 54,
   "id": "f920de7b",
   "metadata": {},
   "outputs": [
    {
     "name": "stdout",
     "output_type": "stream",
     "text": [
      "Iterative preorder traversal of the tree is:\n",
      "1\n",
      "2\n",
      "4\n",
      "5\n",
      "6\n",
      "7\n",
      "3\n"
     ]
    }
   ],
   "source": [
    "print(\"Iterative preorder traversal of the tree is:\")\n",
    "iterativepreorder(root)"
   ]
  },
  {
   "cell_type": "code",
   "execution_count": 60,
   "id": "626f570d",
   "metadata": {},
   "outputs": [
    {
     "name": "stdout",
     "output_type": "stream",
     "text": [
      "Iterative postorder traversal of the tree is:\n"
     ]
    },
    {
     "ename": "KeyboardInterrupt",
     "evalue": "",
     "output_type": "error",
     "traceback": [
      "\u001b[1;31m---------------------------------------------------------------------------\u001b[0m",
      "\u001b[1;31mKeyboardInterrupt\u001b[0m                         Traceback (most recent call last)",
      "\u001b[1;32m<ipython-input-60-7c9c760262ef>\u001b[0m in \u001b[0;36m<module>\u001b[1;34m\u001b[0m\n\u001b[0;32m      1\u001b[0m \u001b[0mprint\u001b[0m\u001b[1;33m(\u001b[0m\u001b[1;34m\"Iterative postorder traversal of the tree is:\"\u001b[0m\u001b[1;33m)\u001b[0m\u001b[1;33m\u001b[0m\u001b[1;33m\u001b[0m\u001b[0m\n\u001b[1;32m----> 2\u001b[1;33m \u001b[0miterativepostorder\u001b[0m\u001b[1;33m(\u001b[0m\u001b[0mroot\u001b[0m\u001b[1;33m)\u001b[0m\u001b[1;33m\u001b[0m\u001b[1;33m\u001b[0m\u001b[0m\n\u001b[0m",
      "\u001b[1;32m<ipython-input-58-8667d9c45007>\u001b[0m in \u001b[0;36miterativepostorder\u001b[1;34m(node)\u001b[0m\n\u001b[0;32m     12\u001b[0m             \u001b[0mcurrent\u001b[0m \u001b[1;33m=\u001b[0m \u001b[0mstack\u001b[0m\u001b[1;33m.\u001b[0m\u001b[0mpop\u001b[0m\u001b[1;33m(\u001b[0m\u001b[1;33m)\u001b[0m\u001b[1;33m\u001b[0m\u001b[1;33m\u001b[0m\u001b[0m\n\u001b[0;32m     13\u001b[0m             \u001b[0mcurrent\u001b[0m \u001b[1;33m=\u001b[0m \u001b[0mcurrent\u001b[0m\u001b[1;33m.\u001b[0m\u001b[0mright\u001b[0m\u001b[1;33m\u001b[0m\u001b[1;33m\u001b[0m\u001b[0m\n\u001b[1;32m---> 14\u001b[1;33m         \u001b[1;32melif\u001b[0m\u001b[1;33m(\u001b[0m\u001b[0mcurrent\u001b[0m\u001b[1;33m)\u001b[0m\u001b[1;33m:\u001b[0m\u001b[1;33m\u001b[0m\u001b[1;33m\u001b[0m\u001b[0m\n\u001b[0m\u001b[0;32m     15\u001b[0m             \u001b[0mprint\u001b[0m\u001b[1;33m(\u001b[0m\u001b[0mcurrent\u001b[0m\u001b[1;33m.\u001b[0m\u001b[0mdata\u001b[0m\u001b[1;33m)\u001b[0m\u001b[1;33m\u001b[0m\u001b[1;33m\u001b[0m\u001b[0m\n\u001b[0;32m     16\u001b[0m             \u001b[1;32mbreak\u001b[0m\u001b[1;33m\u001b[0m\u001b[1;33m\u001b[0m\u001b[0m\n",
      "\u001b[1;31mKeyboardInterrupt\u001b[0m: "
     ]
    }
   ],
   "source": [
    "print(\"Iterative postorder traversal of the tree is:\")\n",
    "iterativepostorder(root)"
   ]
  }
 ],
 "metadata": {
  "kernelspec": {
   "display_name": "Python 3",
   "language": "python",
   "name": "python3"
  }
 },
 "nbformat": 4,
 "nbformat_minor": 5
}
